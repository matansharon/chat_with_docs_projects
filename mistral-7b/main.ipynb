{
 "cells": [
  {
   "cell_type": "code",
   "execution_count": 13,
   "metadata": {},
   "outputs": [],
   "source": [
    "from ctransformers import AutoModelForCausalLM, AutoTokenizer\n",
    "from PyPDF2 import PdfReader"
   ]
  },
  {
   "cell_type": "code",
   "execution_count": 2,
   "metadata": {},
   "outputs": [],
   "source": [
    "def load_llm_and_tokenizer():\n",
    "\n",
    "# Set gpu_layers to the number of layers to offload to GPU. Set to 0 if no GPU acceleration is available on your system.\n",
    "    llm = AutoModelForCausalLM.from_pretrained(\"mistral-7b-instruct-v0.1.Q4_K_M.gguf\", model_type=\"mistral\", gpu_layers=20,context_length=4096,hf=True)\n",
    "    tokenizer=AutoTokenizer.from_pretrained(llm)\n",
    "    return llm, tokenizer\n",
    "# print(llm(\"AI is going to\"))\n"
   ]
  },
  {
   "cell_type": "code",
   "execution_count": 3,
   "metadata": {},
   "outputs": [],
   "source": [
    "def get_all_files(path):\n",
    "    pass"
   ]
  },
  {
   "cell_type": "code",
   "execution_count": 17,
   "metadata": {},
   "outputs": [],
   "source": [
    "\n",
    "def convert_pdf_to_text(pdf_path):\n",
    "    reader = PdfReader(pdf_path)\n",
    "    page = reader.pages[0]\n",
    "    text = page.extract_text()\n",
    "    out_path=pdf_path.replace(\".pdf\", \".txt\")\n",
    "    with open(out_path, \"w\") as f:\n",
    "        f.write(text)\n",
    "convert_pdf_to_text('F:\\python\\chat_with_docs\\data\\Programming_PyTorch_for_Deep_Learning_Creating_and_Deploying_Deep_Learning_Applications_by_Ian_Pointer_z-lib_org.pdf')"
   ]
  },
  {
   "cell_type": "code",
   "execution_count": 1,
   "metadata": {},
   "outputs": [
    {
     "ename": "NameError",
     "evalue": "name 'load_llm_and_tokenizer' is not defined",
     "output_type": "error",
     "traceback": [
      "\u001b[1;31m---------------------------------------------------------------------------\u001b[0m",
      "\u001b[1;31mNameError\u001b[0m                                 Traceback (most recent call last)",
      "\u001b[1;32mf:\\python\\chat_with_docs\\mistral-7b\\main.ipynb Cell 6\u001b[0m line \u001b[0;36m6\n\u001b[0;32m      <a href='vscode-notebook-cell:/f%3A/python/chat_with_docs/mistral-7b/main.ipynb#W5sZmlsZQ%3D%3D?line=0'>1</a>\u001b[0m \u001b[39mdef\u001b[39;00m \u001b[39mmain\u001b[39m():\n\u001b[0;32m      <a href='vscode-notebook-cell:/f%3A/python/chat_with_docs/mistral-7b/main.ipynb#W5sZmlsZQ%3D%3D?line=1'>2</a>\u001b[0m     llm, tokenizer \u001b[39m=\u001b[39m load_llm_and_tokenizer()\n\u001b[1;32m----> <a href='vscode-notebook-cell:/f%3A/python/chat_with_docs/mistral-7b/main.ipynb#W5sZmlsZQ%3D%3D?line=5'>6</a>\u001b[0m main()\n",
      "\u001b[1;32mf:\\python\\chat_with_docs\\mistral-7b\\main.ipynb Cell 6\u001b[0m line \u001b[0;36m2\n\u001b[0;32m      <a href='vscode-notebook-cell:/f%3A/python/chat_with_docs/mistral-7b/main.ipynb#W5sZmlsZQ%3D%3D?line=0'>1</a>\u001b[0m \u001b[39mdef\u001b[39;00m \u001b[39mmain\u001b[39m():\n\u001b[1;32m----> <a href='vscode-notebook-cell:/f%3A/python/chat_with_docs/mistral-7b/main.ipynb#W5sZmlsZQ%3D%3D?line=1'>2</a>\u001b[0m     llm, tokenizer \u001b[39m=\u001b[39m load_llm_and_tokenizer()\n",
      "\u001b[1;31mNameError\u001b[0m: name 'load_llm_and_tokenizer' is not defined"
     ]
    }
   ],
   "source": [
    "def main():\n",
    "    llm, tokenizer = load_llm_and_tokenizer()\n",
    "    \n",
    "    \n",
    "    \n",
    "main()"
   ]
  }
 ],
 "metadata": {
  "kernelspec": {
   "display_name": ".venv",
   "language": "python",
   "name": "python3"
  },
  "language_info": {
   "codemirror_mode": {
    "name": "ipython",
    "version": 3
   },
   "file_extension": ".py",
   "mimetype": "text/x-python",
   "name": "python",
   "nbconvert_exporter": "python",
   "pygments_lexer": "ipython3",
   "version": "3.10.11"
  },
  "orig_nbformat": 4
 },
 "nbformat": 4,
 "nbformat_minor": 2
}
