{
 "cells": [
  {
   "cell_type": "code",
   "execution_count": 1,
   "metadata": {},
   "outputs": [],
   "source": [
    "from ctransformers import AutoModelForCausalLM, AutoTokenizer\n",
    "from PyPDF2 import PdfReader\n",
    "import os\n",
    "# from docx import Document\n",
    "# import win32com.client\n",
    "# import csv\n",
    "\n",
    "\n",
    "ABS_DATA_PATH='F:\\python\\chat_with_docs\\data'\n",
    "ABS_DATA_PATH= ABS_DATA_PATH.replace('\\\\', '/')+'/'\n",
    "\n"
   ]
  },
  {
   "cell_type": "code",
   "execution_count": 12,
   "metadata": {},
   "outputs": [],
   "source": [
    "class Document:\n",
    "    def __init__(self,path=''):\n",
    "        self._path=path\n",
    "        self._type=path.split('.')[-1]\n",
    "        self._text=''\n",
    "        \n",
    "    def get_path(self):\n",
    "        return self._path\n",
    "    def get_type(self):\n",
    "        return self._type\n",
    "    def get_text(self):\n",
    "        return self._text\n",
    "    def set_path(self,path):\n",
    "        self._path=path\n",
    "    def set_type(self,type):\n",
    "        self._type=type\n",
    "    def set_text(self,text):\n",
    "        self._text=text\n",
    "    def _read(self):\n",
    "        if self._path.endswith('.pdf'):\n",
    "            self._read_pdf()\n",
    "    \n",
    "    def read_pdf(self,path):\n",
    "        reader = PdfReader(path)\n",
    "        pages = reader.pages\n",
    "        for i in pages:\n",
    "            \n",
    "            self._text += i.extract_text()\n",
    "        "
   ]
  },
  {
   "cell_type": "code",
   "execution_count": 7,
   "metadata": {},
   "outputs": [],
   "source": [
    "def load_llm_and_tokenizer():\n",
    "\n",
    "# Set gpu_layers to the number of layers to offload to GPU. Set to 0 if no GPU acceleration is available on your system.\n",
    "    llm = AutoModelForCausalLM.from_pretrained(\"models/mistral-7b-instruct-v0.1.Q4_K_M.gguf\", model_type=\"mistral\", gpu_layers=20,context_length=4096,hf=True)\n",
    "    tokenizer=AutoTokenizer.from_pretrained(llm)\n",
    "    return llm, tokenizer\n",
    "# print(llm(\"AI is going to\"))\n"
   ]
  },
  {
   "cell_type": "code",
   "execution_count": null,
   "metadata": {},
   "outputs": [],
   "source": [
    "def read_txt(path):\n",
    "    with open(path, 'r') as f:\n",
    "        text = f.read()\n",
    "    return text\n",
    "\n",
    "print(read_txt('F:\\python\\chat_with_docs\\data\\Self supervised learning tuturial slides.txt'))"
   ]
  },
  {
   "cell_type": "code",
   "execution_count": null,
   "metadata": {},
   "outputs": [],
   "source": [
    "\n",
    "def read_docx(file_path):\n",
    "    doc = Document(file_path)\n",
    "    text = [p.text for p in doc.paragraphs if p.text.strip() != \"\"]\n",
    "    return \"\\n\".join(text)\n"
   ]
  },
  {
   "cell_type": "code",
   "execution_count": null,
   "metadata": {},
   "outputs": [],
   "source": [
    "\n",
    "\n",
    "def read_doc(file_path):\n",
    "    word = win32com.client.Dispatch('Word.Application')\n",
    "    word.Visible = False\n",
    "    doc = word.Documents.Open(file_path)\n",
    "    text = doc.Content.Text\n",
    "    doc.Close()\n",
    "    word.Quit()\n",
    "    return text\n"
   ]
  },
  {
   "cell_type": "code",
   "execution_count": null,
   "metadata": {},
   "outputs": [],
   "source": [
    "\n",
    "def read_csv(file_path):\n",
    "    with open(file_path, mode ='r') as file:\n",
    "        csv_reader = csv.reader(file)\n",
    "        for row in csv_reader:\n",
    "            print(row)\n",
    "        return [csv_reader]\n",
    "\n",
    "# # Test with a specific file path\n",
    "# file_path = \"F:\\python\\chat_with_docs\\data\\csvs\\med1.csv\"\n",
    "# read_csv(file_path)\n"
   ]
  },
  {
   "cell_type": "code",
   "execution_count": null,
   "metadata": {},
   "outputs": [],
   "source": [
    "def get_all_data(path=''):\n",
    "    docs=os.listdir(path)\n",
    "    res=[]\n",
    "    for doc in docs:\n",
    "        if doc.endswith('.pdf'):\n",
    "            text=read_pdf(path+doc)\n",
    "            res.append(text)\n",
    "        if doc.endswith('.txt'):\n",
    "            text=read_txt(path+doc)\n",
    "            res.append(text)\n",
    "        if doc.endswith('.docx'):\n",
    "            text=read_docx(path+doc)\n",
    "            res.append(text)\n",
    "        if doc.endswith('.doc'):\n",
    "            text=read_doc(path+doc)\n",
    "            res.append(text)\n",
    "    return res"
   ]
  },
  {
   "cell_type": "code",
   "execution_count": 66,
   "metadata": {},
   "outputs": [
    {
     "name": "stdout",
     "output_type": "stream",
     "text": [
      "Machine Learning Roa ------> 100\n",
      "\u0007Na ------> 31417\n",
      "Ian Pointer\n",
      "Programm ------> 103\n",
      "QL ORA: Efficient Fi ------> 3040\n",
      "\n",
      "Self-Supervised Lea ------> 882\n",
      "Software Test Descri ------> 9011\n"
     ]
    }
   ],
   "source": [
    "def main():\n",
    "    path=ABS_DATA_PATH\n",
    "    llm, tokenizer = load_llm_and_tokenizer()\n",
    "    docs=get_all_data(path)\n",
    "    for doc in docs:\n",
    "        print(doc[:20],'------>',len(doc))\n",
    "    \n",
    "main()"
   ]
  },
  {
   "cell_type": "code",
   "execution_count": 11,
   "metadata": {},
   "outputs": [
    {
     "name": "stdout",
     "output_type": "stream",
     "text": [
      "pdf\n",
      "DS_Store\n",
      "txt\n",
      "csv\n",
      "pdf\n",
      "doc\n",
      "pdf\n",
      "docx\n"
     ]
    }
   ],
   "source": [
    "docs=os.listdir('/Users/matansharon/python/chat_with_docs/data')\n",
    "for doc in docs:\n",
    "    print(doc.split('.')[-1])"
   ]
  }
 ],
 "metadata": {
  "kernelspec": {
   "display_name": ".venv",
   "language": "python",
   "name": "python3"
  },
  "language_info": {
   "codemirror_mode": {
    "name": "ipython",
    "version": 3
   },
   "file_extension": ".py",
   "mimetype": "text/x-python",
   "name": "python",
   "nbconvert_exporter": "python",
   "pygments_lexer": "ipython3",
   "version": "3.10.11"
  },
  "orig_nbformat": 4
 },
 "nbformat": 4,
 "nbformat_minor": 2
}
