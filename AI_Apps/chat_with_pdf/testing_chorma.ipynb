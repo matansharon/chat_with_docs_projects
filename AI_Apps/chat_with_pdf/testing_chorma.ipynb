{
 "cells": [
  {
   "cell_type": "code",
   "execution_count": null,
   "metadata": {},
   "outputs": [],
   "source": [
    "import chromadb.utils.embedding_functions as embedding_functions\n",
    "import chromadb\n",
    "from PyPDF2 import PdfReader\n",
    "path='/Users/matansharon/python/chat_with_docs/data/pdf/qlora.pdf'\n",
    "doc=PdfReader(path)\n",
    "#get the name of the document\n",
    "doc_name=path.split('/')[-1]\n",
    "\n",
    "text=''\n",
    "for page in doc.pages:\n",
    "    text+=page.extract_text()\n",
    "\n",
    "\n",
    "\n",
    "chunks=RecursiveCharacterTextSplitter(chunk_size=1000,chunk_overlap=100,length_function=len,add_start_index=True).split_text(text)\n",
    "\n",
    "openai_ef = embedding_functions.OpenAIEmbeddingFunction(\n",
    "    api_key=OPENAI_API_KEY,\n",
    "                model_name=\"text-embedding-3-small\"\n",
    "            )\n",
    "\n",
    "chroma_client = chromadb.Client()\n",
    "collection=chroma_client.create_collection(name=\"My_pdf_collection\",embedding_function= openai_ef)\n",
    "metadatas=[{\"page_number\":i,\"page_content\":chunks[i],'doc_name':doc_name} for i in range(len(chunks))]\n",
    "emb_list = openai_ef(chunks)\n",
    "ids=[\"id\"+str(i) for i in range(len(chunks))]\n",
    "collection.add(embeddings=emb_list,documents=chunks,metadatas=metadatas,ids=ids)\n",
    "res=collection.query(query_texts=[\"what is qlora?\"],n_results=3)\n",
    "res\n",
    "results_with_high_score=[]\n",
    "for i in range(len(res['ids'][0])):\n",
    "    if res['distances'][0][i]<1.1:\n",
    "        print(res['distances'][0][i])\n",
    "        results_with_high_score.append(res['documents'][0][i])\n",
    "results_with_high_score\n",
    "client=chromadb.PersistentClient('chromadb')"
   ]
  }
 ],
 "metadata": {
  "kernelspec": {
   "display_name": ".venv",
   "language": "python",
   "name": "python3"
  },
  "language_info": {
   "name": "python",
   "version": "3.10.11"
  }
 },
 "nbformat": 4,
 "nbformat_minor": 2
}
