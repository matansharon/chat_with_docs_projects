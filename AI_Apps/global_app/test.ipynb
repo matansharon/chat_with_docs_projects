{
 "cells": [
  {
   "cell_type": "code",
   "execution_count": null,
   "metadata": {},
   "outputs": [],
   "source": [
    "from openai import OpenAI\n",
    "audio_file = open(\"./data_files/AI and the Paradox of Self-Replacing Workers  Madison Mohns  TED.mp3\", \"rb\")\n",
    "        # return audio_file\n",
    "client=OpenAI()\n",
    "transcription = client.audio.transcriptions.create(\n",
    "    \n",
    "model=\"whisper-1\", \n",
    "file=audio_file, \n",
    "response_format=\"text\"\n",
    ")\n",
    "print(transcription)"
   ]
  },
  {
   "cell_type": "code",
   "execution_count": null,
   "metadata": {},
   "outputs": [],
   "source": [
    "splited=transcription.split(\".\")\n",
    "for row in splited:\n",
    "    print(row)"
   ]
  },
  {
   "cell_type": "code",
   "execution_count": 9,
   "metadata": {},
   "outputs": [
    {
     "name": "stdout",
     "output_type": "stream",
     "text": [
      "I'm going about my day, normal Tuesday of meetings, when I get a ping from my manager's manager's manager\n",
      " It says, get me a document by the end of the day that records everything your team has been working on related to AI\n",
      " As it turns out, the board of directors of my large company had been hearing buzz about this new thing called ChatGPT, and they wanted to know what we were doing about it\n",
      " They're freaking out about the future, I'm freaking out about this measly document\n",
      " Sounds like the perfect start to solving the next hottest problem in tech, right? As someone who works with machine learning models every single day, I know firsthand that the rapid development of these technologies poses endless opportunities for innovation\n",
      " However, the same exponential improvement in AI systems is becoming a looming existential threat to the team I manage\n",
      " With increasing accessibility and creepily human-like results coming out of the field of AI research, companies like my own are turning toward automation to make things more efficient\n",
      " Now, on the surface, this seems like a pretty great vision, but as we start to dig deeper, we uncover an uncomfortable paradox\n",
      " Let's break this down\n",
      " In order to harness the power of AI systems, these systems must be trained and fine-tuned to match a high quality standard\n",
      " But who defines quality? And who trains these systems in the first place? As you may have guessed, real life subject matter experts, oftentimes the same exact people who are currently doing the job\n",
      " Imagine my predicament here\n",
      " I get to go to my trusted team, whom I've worked with for years, look them in the eyes, and pitch them on training the very systems that might displace them\n",
      " This paradox had led me to rely on three ethical principles that can ensure that managers can grapple with the implications of a self-replacing workforce\n",
      " One, transformational transparency\n",
      " Two, collaborative AI augmentation\n",
      " And three, re-skilling to realize potential\n",
      " Now, before we get into solutions, let's zoom out a little bit\n",
      " How deep is this problem of self-replacing workers really? Research from this year coming out of OpenAI indicates that approximately 80% of the US workforce could see up to 10% of their tasks impacted by the introduction of AI, while around 19% of the workforce could see up to 50% of their tasks impacted\n",
      " The craziest thing about all of this is, is that these technologies do not discriminate\n",
      " Occupations that have historically required an immense amount of training or education are equally as vulnerable to being outsourced to AI\n",
      " Now, before we throw our hands up and let the robots take over, let's put this all into perspective\n",
      " Fortunately for us, this is not the first time in history that this has happened\n",
      " Let's go back to the Industrial Revolution\n",
      " Picture Henry Ford's iconic Model T automobile production line\n",
      " In this remarkable setup, workers and machines engaged in a synchronous dance\n",
      " They were tasked with specific repetitive tasks, such as tightening bolts or fitting components as the product moved down the line\n",
      " Ironically, and not dissimilar to my current predicament, the humans themselves played a crucial role in training the systems that would eventually replace their once multi-skilled roles\n",
      " They were the ones who honed their craft, perfected the techniques, and ultimately handed off the knowledge to the technicians and engineers involved in automating their entire process\n",
      " Now, on the outset, this situation seems pretty dire\n",
      " Yet, despite initial fears and hesitations involved in these technological advancements, history has proven that humans have continuously found ways to adapt and innovate\n",
      " While some roles were indeed replaced, new roles emerged, requiring higher-level skills like creativity and creative problem-solving that machines just simply couldn't replicate\n",
      " Reflecting on this historical example reminds us that the relationship between humans and machines has always been a delicate balancing act\n",
      " We are the architects of our own progress, often training machines to replace us while simultaneously carving out unique roles for ourselves and discovering new possibilities\n",
      " Now, coming back to the present day, we are on the cusp of the AI revolution\n",
      " As someone responsible for moving that revolution forward, the tension becomes omnipresent\n",
      " Option one, I can innovate quickly and risk displacing my team\n",
      " Or option two, I can refuse to innovate in an effort to protect my team, but ultimately still lose people because the company falls behind\n",
      " So what am I supposed to do as a mere middle manager in this situation? Knowingly introducing this complex paradox for your team presents strong challenges for people management\n",
      " Luckily, we can refer back to those three ethical principles I addressed at the beginning of the talk to ensure that you can continue to move ahead without leaving your people behind\n",
      " First and foremost, AI transformation needs to be transparent\n",
      " As leaders, it is imperative to foster dialogue, address key concerns, and offer concise explanations regarding the purpose and potential challenges entailed in implementing AI\n",
      " This requires actively involving your employees in the decision-making process and valuing their autonomy\n",
      " By introducing the concept of consent, especially for employees who are tasked with automating their core responsibilities, we can ensure that they maintain a strong voice in carving out their professional destiny\n",
      " Next, now that we've gotten folks bought into this grandiose vision while acknowledging the journey that lies ahead, let's talk about how to use AI as an augmentation device\n",
      " Picture the worst part of your job today\n",
      " What if you could delegate it? No, not hand it off to some other sad soul at work, but hand it to a system that can do your rote tasks for you\n",
      " Instead of perceiving AI as a complete replacement, identify opportunities where you can use it to enhance your employees' potential and productivity\n",
      " Collaboratively with your team, identify areas and tasks that can be automated, carving out more room for higher value activities requiring critical thinking that machines just aren't very good at doing\n",
      " Let's put this into an example\n",
      " Recently, I completed a project with my team at work that's going to save our company over 12,000 working hours\n",
      " The folks involved in training this algorithm are the same subject matter experts that worked tirelessly last year to hand-curate and research data to optimize segmented experiences across our website\n",
      " Now, because of the sheer amount of time spent and the level of detail involved, I would have expected that there was an immense amount of pride behind this workflow\n",
      " But to my surprise, as it turns out, the subject matter experts who built this model were actually excited to hand these tasks off to automation\n",
      " There were things that they would have much rather spent their time on, like in optimizing existing data to perform better on product surfaces, or even researching and developing new insights to augment where the model just simply doesn't do as well\n",
      " Lastly, we must re-skill in order to avoid replacement\n",
      " Knowingly investing in the professional development and well-being of our workforce ensures that they are equipped with the skills and knowledge needed to thrive in an AI-powered future\n",
      " By providing opportunities for up-skilling and re-skilling, we can empower our employees to rethink their roles as they exist today and carve out new possibilities that align with their evolving expertise and interests\n",
      " So how does this work in practice? When I started introducing AI as a way to accelerate my team's workflows, I used it as an opportunity to improve my team's technical literacy\n",
      " I worked with my team of engineers on a tool that could transparently identify the impact of data on a model's outcomes\n",
      " I then went to my operations analysts, who didn't have technical training at the time, and they were able to quickly identify areas where the model was underperforming and hand off direct suggestions to my data science team to make those models do better next time\n",
      " Fostering a culture of continuous learning and re-skilling is paramount\n",
      " It makes AI transformation a lot more exciting and a lot less scary\n",
      " We have reached a critical juncture where the rapid development of AI technology poses both opportunities and challenges\n",
      " As managers and leaders, it is imperative that we navigate this terrain with full sensitivity and foresight\n",
      " By embracing innovation, fostering a culture of adaptation, and ultimately intentionally investing in the professional development and well-being of our workforce, we can ensure that we are preparing our team for the challenges that lie ahead while addressing the complexities of introducing AI\n",
      " Together, let's forge a future that harmoniously combines human ingenuity and technological progress, where AI enhances human potential rather than replacing it\n",
      " Thank you\n",
      "\n",
      "\n",
      "\n"
     ]
    }
   ],
   "source": [
    "path=\"./data_files/transcription.txt\"\n",
    "transcription=\"\"\n",
    "with open(path, \"r\") as f:\n",
    "            text=f.read()\n",
    "            transcription=text\n",
    "print( transcription)"
   ]
  }
 ],
 "metadata": {
  "kernelspec": {
   "display_name": ".venv",
   "language": "python",
   "name": "python3"
  },
  "language_info": {
   "codemirror_mode": {
    "name": "ipython",
    "version": 3
   },
   "file_extension": ".py",
   "mimetype": "text/x-python",
   "name": "python",
   "nbconvert_exporter": "python",
   "pygments_lexer": "ipython3",
   "version": "3.10.11"
  }
 },
 "nbformat": 4,
 "nbformat_minor": 2
}
