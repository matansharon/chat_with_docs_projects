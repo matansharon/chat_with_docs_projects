{
 "cells": [
  {
   "cell_type": "code",
   "execution_count": null,
   "metadata": {},
   "outputs": [],
   "source": [
    "import pandas as pd\n",
    "from langchain_community.utilities import SQLDatabase\n",
    "from sqlalchemy import create_engine\n",
    "from langchain_community.agent_toolkits import create_sql_agent\n",
    "from langchain_openai import ChatOpenAI\n",
    "df = pd.read_csv(\"/Users/matansharon/python/chat_with_docs/data/csv/banklist.csv\",encoding='Windows-1252')\n",
    "\n",
    "engine = create_engine(\"sqlite:///banklist.db\")\n",
    "df.to_sql(\"banklist\", engine, index=False)"
   ]
  },
  {
   "cell_type": "code",
   "execution_count": null,
   "metadata": {},
   "outputs": [],
   "source": [
    "\n",
    "db = SQLDatabase(engine=engine)\n",
    "gpt3 = ChatOpenAI(model=\"gpt-3.5-turbo\", temperature=0)\n",
    "\n",
    "gpt4 = ChatOpenAI(model=\"gpt-4-turbo-preview\", temperature=0)\n",
    "gpt3_agent_executor = create_sql_agent(gpt3, db=db, agent_type=\"openai-tools\", verbose=True)\n",
    "gpt4_agent_executor = create_sql_agent(gpt3, db=db, agent_type=\"openai-tools\", verbose=True)"
   ]
  },
  {
   "cell_type": "code",
   "execution_count": null,
   "metadata": {},
   "outputs": [],
   "source": [
    "gpt3_agent_executor.invoke({\"input\": \"how many diffrence cities there is in the dataset?\"})['output']"
   ]
  },
  {
   "cell_type": "code",
   "execution_count": null,
   "metadata": {},
   "outputs": [],
   "source": [
    "gpt4_agent_executor.invoke({\"input\": \"how many diffrence cities there is in the dataset?\"})['output']"
   ]
  },
  {
   "cell_type": "code",
   "execution_count": null,
   "metadata": {},
   "outputs": [],
   "source": [
    "gpt4_agent_executor.invoke({\"input\": \"what is the cert column mean?\"})['output']"
   ]
  }
 ],
 "metadata": {
  "kernelspec": {
   "display_name": ".venv",
   "language": "python",
   "name": "python3"
  },
  "language_info": {
   "codemirror_mode": {
    "name": "ipython",
    "version": 3
   },
   "file_extension": ".py",
   "mimetype": "text/x-python",
   "name": "python",
   "nbconvert_exporter": "python",
   "pygments_lexer": "ipython3",
   "version": "3.10.11"
  }
 },
 "nbformat": 4,
 "nbformat_minor": 2
}
