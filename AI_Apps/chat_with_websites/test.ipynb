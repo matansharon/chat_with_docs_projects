{
 "cells": [
  {
   "cell_type": "code",
   "execution_count": 36,
   "metadata": {},
   "outputs": [],
   "source": [
    "import streamlit as st\n",
    "from langchain_core.messages import AIMessage,HumanMessage\n",
    "from langchain_community.document_loaders import WebBaseLoader\n",
    "from langchain.text_splitter import RecursiveCharacterTextSplitter\n",
    "from langchain_community.vectorstores.chroma import Chroma\n",
    "from langchain_openai import OpenAIEmbeddings, ChatOpenAI\n",
    "from dotenv import load_dotenv\n",
    "from langchain_core.prompts import ChatPromptTemplate, MessagesPlaceholder\n",
    "from langchain.chains import create_history_aware_retriever,create_retrieval_chain\n",
    "from langchain.chains.combine_documents import  create_stuff_documents_chain\n",
    "load_dotenv()\n",
    "\n",
    "def get_urls():\n",
    "    return[\"https://en.wikipedia.org/wiki/2024_United_States_presidential_election,\"\n",
    "           \n",
    "        \n",
    "    ]\n",
    "def get_vectorstore_from_url(url):\n",
    "    url=\"https://en.wikipedia.org/wiki/2024_United_States_presidential_election\"\n",
    "    loader=WebBaseLoader(url)\n",
    "    document=loader.load()\n",
    "\n",
    "    text_splitter=RecursiveCharacterTextSplitter()\n",
    "    document_chunks=text_splitter.split_documents(document)\n",
    "\n",
    "    vector_store=Chroma.from_documents(document_chunks,OpenAIEmbeddings(),persist_directory=\"chroma_db\") \n",
    "    return vector_store\n",
    "\n",
    "def context_retriever_chain(vector_store):\n",
    "    llm=ChatOpenAI()\n",
    "    retriever=vector_store.as_retriever()\n",
    "    prompt=ChatPromptTemplate.from_messages(\n",
    "        [MessagesPlaceholder(variable_name=\"chat_history\"), \n",
    "         (\"user\", \"{input}\"), \n",
    "         (\"user\", \"Hello from the website!\"),\n",
    "         ])\n",
    "    retriever_chain=create_history_aware_retriever(llm,retriever,prompt)\n",
    "    return retriever_chain\n",
    "\n",
    "\n",
    "def get_conversion_rag_chain(retriever_chain):\n",
    "    llm = ChatOpenAI()\n",
    "    prompt = ChatPromptTemplate.from_messages([\n",
    "        ('system', \"answer the following questions based on the below context:\\n\\n{context}\"),\n",
    "        MessagesPlaceholder(variable_name=\"chat_history\"),\n",
    "        (\"user\", \"{input}\"),\n",
    "    ])\n",
    "    \n",
    "    stuff_documents_chain = create_stuff_documents_chain(llm, prompt)\n",
    "    \n",
    "    # Correctly call create_retrieval_chain with the retriever_chain and stuff_documents_chain\n",
    "    combined_retrieval_chain = create_retrieval_chain(retriever_chain, stuff_documents_chain)\n",
    "    return combined_retrieval_chain\n",
    "\n",
    "def get_response(user_input,conversation_rag_chain):\n",
    "    conversation_rag_chain=conversation_rag_chain\n",
    "    response = conversation_rag_chain.invoke({\n",
    "                \"chat_history\": [],\n",
    "                \"input\": user_input\n",
    "            })\n",
    "    # context=\"\"\n",
    "    # for res in response:\n",
    "    #     context+=res.page_content\n",
    "    # llm=ChatOpenAI()\n",
    "    # return llm.invoke(f\"answer the following questions based on the below context:\\n\\n{context}\")\n",
    "    return response\n",
    "\n",
    "\n",
    "def run():\n",
    "    urls=get_urls()\n",
    "    vector_store=get_vectorstore_from_url(urls)\n",
    "    retriever_chain=context_retriever_chain(vector_store=vector_store)\n",
    "    conversation_rag_chain = get_conversion_rag_chain(retriever_chain=retriever_chain)\n",
    "    \n",
    "    return conversation_rag_chain,vector_store,retriever_chain,urls\n"
   ]
  },
  {
   "cell_type": "code",
   "execution_count": 37,
   "metadata": {},
   "outputs": [],
   "source": [
    "conversation_rag_chain,vector_store,retriever_chain,urls=run()"
   ]
  },
  {
   "cell_type": "code",
   "execution_count": 38,
   "metadata": {},
   "outputs": [],
   "source": [
    "response=get_response(\"What is the 2024 United States presidential election?\",conversation_rag_chain)"
   ]
  },
  {
   "cell_type": "code",
   "execution_count": 39,
   "metadata": {},
   "outputs": [
    {
     "data": {
      "text/plain": [
       "{'chat_history': [],\n",
       " 'input': 'What is the 2024 United States presidential election?',\n",
       " 'context': [Document(page_content='2024 United States presidential election - Wikipedia\\n\\n\\n\\n\\n\\n\\n\\n\\n\\n\\n\\n\\n\\n\\n\\n\\n\\n\\n\\n\\n\\n\\n\\n\\n\\n\\n\\n\\n\\n\\n\\n\\n\\n\\n\\nJump to content\\n\\n\\n\\n\\n\\n\\n\\nMain menu\\n\\n\\n\\n\\n\\nMain menu\\nmove to sidebar\\nhide\\n\\n\\n\\n\\t\\tNavigation\\n\\t\\n\\n\\nMain pageContentsCurrent eventsRandom articleAbout WikipediaContact usDonate\\n\\n\\n\\n\\n\\n\\t\\tContribute\\n\\t\\n\\n\\nHelpLearn to editCommunity portalRecent changesUpload file\\n\\n\\n\\n\\n\\n\\n\\n\\n\\n\\n\\n\\n\\n\\n\\n\\n\\n\\n\\nSearch\\n\\n\\n\\n\\n\\n\\n\\n\\n\\n\\n\\nSearch\\n\\n\\n\\n\\n\\n\\n\\n\\n\\n\\n\\n\\n\\n\\n\\n\\n\\n\\n\\n\\n\\n\\n\\n\\n\\n\\n\\n\\n\\nCreate account\\n\\nLog in\\n\\n\\n\\n\\n\\n\\n\\n\\nPersonal tools\\n\\n\\n\\n\\n\\n Create account Log in\\n\\n\\n\\n\\n\\n\\t\\tPages for logged out editors learn more\\n\\n\\n\\nContributionsTalk\\n\\n\\n\\n\\n\\n\\n\\n\\n\\n\\n\\n\\n\\n\\n\\n\\n\\n\\n\\n\\n\\n\\n\\n\\n\\n\\n\\n\\nContents\\nmove to sidebar\\nhide\\n\\n\\n\\n\\n(Top)\\n\\n\\n\\n\\n\\n1Background\\n\\n\\n\\nToggle Background subsection\\n\\n\\n\\n\\n\\n1.1Procedure\\n\\n\\n\\n\\n\\n\\n\\n1.2Election interference\\n\\n\\n\\n\\n\\n\\n\\n1.3Electoral map\\n\\n\\n\\n\\n\\n1.3.1Effects of the 2020 census\\n\\n\\n\\n\\n\\n\\n\\n1.3.2Historical background\\n\\n\\n\\n\\n\\n\\n\\n\\n\\n1.4Independent and third-party voting\\n\\n\\n\\n\\n\\n\\n\\n\\n\\n2Campaign issues\\n\\n\\n\\nToggle Campaign issues subsection\\n\\n\\n\\n\\n\\n2.1Abortion\\n\\n\\n\\n\\n\\n\\n\\n2.2Border security and immigration\\n\\n\\n\\n\\n\\n\\n\\n2.3Democracy\\n\\n\\n\\n\\n\\n\\n\\n2.4Economic issues\\n\\n\\n\\n\\n\\n\\n\\n2.5Education\\n\\n\\n\\n\\n\\n\\n\\n2.6Foreign policy\\n\\n\\n\\n\\n\\n\\n\\n2.7Healthcare issues\\n\\n\\n\\n\\n\\n\\n\\n2.8LGBT rights\\n\\n\\n\\n\\n\\n\\n\\n\\n\\n3Democratic Party\\n\\n\\n\\nToggle Democratic Party subsection\\n\\n\\n\\n\\n\\n3.1Presumptive nominee\\n\\n\\n\\n\\n\\n\\n\\n3.2Declared candidates\\n\\n\\n\\n\\n\\n\\n\\n3.3Alternate ballot options\\n\\n\\n\\n\\n\\n\\n\\n3.4Former candidates\\n\\n\\n\\n\\n\\n\\n\\n\\n\\n4Republican Party\\n\\n\\n\\nToggle Republican Party subsection\\n\\n\\n\\n\\n\\n4.1Presumptive nominee\\n\\n\\n\\n\\n\\n\\n\\n4.2Alternate ballot options\\n\\n\\n\\n\\n\\n\\n\\n4.3Former candidates\\n\\n\\n\\n\\n\\n\\n\\n\\n\\n5Independent and third party candidates\\n\\n\\n\\nToggle Independent and third party candidates subsection\\n\\n\\n\\n\\n\\n5.1Notable party nominations\\n\\n\\n\\n\\n\\n5.1.1With partial ballot access\\n\\n\\n\\n\\n\\n\\n\\n5.1.2Without ballot access\\n\\n\\n\\n\\n\\n\\n\\n\\n\\n5.2Notable declared candidates\\n\\n\\n\\n\\n\\n5.2.1Independents\\n\\n\\n\\n\\n\\n\\n\\n5.2.2Libertarian Party\\n\\n\\n\\n\\n\\n\\n\\n5.2.3Green Party\\n\\n\\n\\n\\n\\n\\n\\n\\n\\n5.3Publicly expressed interest\\n\\n\\n\\n\\n\\n\\n\\n5.4Potential candidates\\n\\n\\n\\n\\n\\n\\n\\n5.5Withdrawn candidates\\n\\n\\n\\n\\n\\n\\n\\n\\n\\n6Polling and forecasts\\n\\n\\n\\nToggle Polling and forecasts subsection\\n\\n\\n\\n\\n\\n6.1Polling aggregation\\n\\n\\n\\n\\n\\n6.1.1Joe Biden vs. Donald Trump\\n\\n\\n\\n\\n\\n\\n\\n6.1.2Joe Biden vs. Donald Trump vs Robert F. Kennedy Jr. vs Cornel West vs. Jill Stein\\n\\n\\n\\n\\n\\n\\n\\n6.1.3Joe Biden, Donald Trump, and Robert F. Kennedy Jr.\\n\\n\\n\\n\\n\\n\\n\\n\\n\\n6.2Forecasts\\n\\n\\n\\n\\n\\n\\n\\n\\n\\n7Debates\\n\\n\\n\\n\\n\\n\\n\\n8See also\\n\\n\\n\\n\\n\\n\\n\\n9Notes\\n\\n\\n\\n\\n\\n\\n\\n10References\\n\\n\\n\\n\\n\\n\\n\\n\\n\\n\\n\\n\\n\\n\\n\\n\\n\\nToggle the table of contents\\n\\n\\n\\n\\n\\n\\n\\n2024 United States presidential election\\n\\n\\n\\n51 languages\\n\\n\\n\\n\\nAfrikaansÿßŸÑÿπÿ±ÿ®Ÿäÿ©Az…ôrbaycanca‡¶¨‡¶æ‡¶Ç‡¶≤‡¶æ–ë–µ–ª–∞—Ä—É—Å–∫–∞—è–ë–µ–ª–∞—Ä—É—Å–∫–∞—è (—Ç–∞—Ä–∞—à–∫–µ–≤—ñ—Ü–∞)–ë—ä–ª–≥–∞—Ä—Å–∫–∏ƒåe≈°tinaDanskDeutschEestiŒïŒªŒªŒ∑ŒΩŒπŒ∫Œ¨Espa√±olŸÅÿßÿ±ÿ≥€åFran√ßaisGaeilgeGalegoÌïúÍµ≠Ïñ¥’Ä’°’µ’•÷Ä’•’∂‡§π‡§ø‡§®‡•ç‡§¶‡•ÄBahasa Indonesia√çslenskaItaliano◊¢◊ë◊®◊ô◊™Latvie≈°uLietuvi≈≥MagyarBahasa MelayuNederlandsÊó•Êú¨Ë™ûNordfriiskNorsk bokm√•lO\\xa0ªzbekcha / —û–∑–±–µ–∫—á–∞PolskiPortugu√™sRom√¢nƒÉ–†—É—Å—Å–∫–∏–π‡∑É‡∑í‡∂Ç‡∑Ñ‡∂ΩSimple EnglishSlovenƒçinaSloven≈°ƒçina–°—Ä–ø—Å–∫–∏ / srpskiSrpskohrvatski / —Å—Ä–ø—Å–∫–æ—Ö—Ä–≤–∞—Ç—Å–∫–∏SuomiSvenska‡Æ§‡ÆÆ‡Æø‡Æ¥‡Øç‡πÑ‡∏ó‡∏¢T√ºrk√ße–£–∫—Ä–∞—ó–Ω—Å—å–∫–∞Ti·∫øng Vi·ªát‰∏≠Êñá\\n\\nEdit links\\n\\n\\n\\n\\n\\n\\n\\n\\n\\n\\n\\nArticleTalk\\n\\n\\n\\n\\n\\nEnglish\\n\\n\\n\\n\\n\\n\\n\\n\\n\\n\\n\\n\\n\\n\\n\\n\\n\\nReadView sourceView history\\n\\n\\n\\n\\n\\n\\n\\nTools\\n\\n\\n\\n\\n\\nTools\\nmove to sidebar\\nhide\\n\\n\\n\\n\\t\\tActions\\n\\t\\n\\n\\nReadView sourceView history\\n\\n\\n\\n\\n\\n\\t\\tGeneral\\n\\t\\n\\n\\nWhat links hereRelated changesUpload fileSpecial pagesPermanent linkPage informationCite this pageGet shortened URLDownload QR codeWikidata item\\n\\n\\n\\n\\n\\n\\t\\tPrint/export\\n\\t\\n\\n\\nDownload as PDFPrintable version\\n\\n\\n\\n\\n\\n\\t\\tIn other projects\\n\\t\\n\\n\\nWikimedia CommonsWikinewsWikiquote\\n\\n\\n\\n\\n\\n\\n\\n\\n\\n\\n\\n\\n\\n\\n\\n\\n\\n\\n\\n\\n\\n\\n\\n\\n\\n\\nFrom Wikipedia, the free encyclopedia\\n\\n\\n60th quadrennial U.S. presidential election\\nFor related races, see 2024 United States elections.\\n\\n\\n\\n2024 United States presidential election\\n←\\xa02020\\nNovember 5, 2024\\n2028\\xa0→\\n538 members of the Electoral College270 electoral votes needed to winOpinion\\xa0polls\\n\\n\\n\\xa0\\n\\n\\n\\n\\n\\n\\nNominee\\n\\nJoe Biden(presumptive)\\n\\nDonald Trump(presumptive)\\n\\n\\n\\n\\nParty\\n\\nDemocratic\\n\\nRepublican\\n\\n\\nHome\\xa0state\\n\\nDelaware\\n\\nFlorida\\n\\n\\nRunning\\xa0mate', metadata={'language': 'en', 'source': 'https://en.wikipedia.org/wiki/2024_United_States_presidential_election', 'title': '2024 United States presidential election - Wikipedia'}),\n",
       "  Document(page_content='2024 United States presidential election - Wikipedia\\n\\n\\n\\n\\n\\n\\n\\n\\n\\n\\n\\n\\n\\n\\n\\n\\n\\n\\n\\n\\n\\n\\n\\n\\n\\n\\n\\n\\n\\n\\n\\n\\n\\n\\n\\nJump to content\\n\\n\\n\\n\\n\\n\\n\\nMain menu\\n\\n\\n\\n\\n\\nMain menu\\nmove to sidebar\\nhide\\n\\n\\n\\n\\t\\tNavigation\\n\\t\\n\\n\\nMain pageContentsCurrent eventsRandom articleAbout WikipediaContact usDonate\\n\\n\\n\\n\\n\\n\\t\\tContribute\\n\\t\\n\\n\\nHelpLearn to editCommunity portalRecent changesUpload file\\n\\n\\n\\n\\n\\n\\n\\n\\n\\n\\n\\n\\n\\n\\n\\n\\n\\n\\n\\nSearch\\n\\n\\n\\n\\n\\n\\n\\n\\n\\n\\n\\nSearch\\n\\n\\n\\n\\n\\n\\n\\n\\n\\n\\n\\n\\n\\n\\n\\n\\n\\n\\n\\n\\n\\n\\n\\n\\n\\n\\n\\n\\n\\nCreate account\\n\\nLog in\\n\\n\\n\\n\\n\\n\\n\\n\\nPersonal tools\\n\\n\\n\\n\\n\\n Create account Log in\\n\\n\\n\\n\\n\\n\\t\\tPages for logged out editors learn more\\n\\n\\n\\nContributionsTalk\\n\\n\\n\\n\\n\\n\\n\\n\\n\\n\\n\\n\\n\\n\\n\\n\\n\\n\\n\\n\\n\\n\\n\\n\\n\\n\\n\\n\\nContents\\nmove to sidebar\\nhide\\n\\n\\n\\n\\n(Top)\\n\\n\\n\\n\\n\\n1Background\\n\\n\\n\\nToggle Background subsection\\n\\n\\n\\n\\n\\n1.1Procedure\\n\\n\\n\\n\\n\\n\\n\\n1.2Election interference\\n\\n\\n\\n\\n\\n\\n\\n1.3Electoral map\\n\\n\\n\\n\\n\\n1.3.1Effects of the 2020 census\\n\\n\\n\\n\\n\\n\\n\\n1.3.2Historical background\\n\\n\\n\\n\\n\\n\\n\\n\\n\\n1.4Independent and third-party voting\\n\\n\\n\\n\\n\\n\\n\\n\\n\\n2Campaign issues\\n\\n\\n\\nToggle Campaign issues subsection\\n\\n\\n\\n\\n\\n2.1Abortion\\n\\n\\n\\n\\n\\n\\n\\n2.2Border security and immigration\\n\\n\\n\\n\\n\\n\\n\\n2.3Democracy\\n\\n\\n\\n\\n\\n\\n\\n2.4Economic issues\\n\\n\\n\\n\\n\\n\\n\\n2.5Education\\n\\n\\n\\n\\n\\n\\n\\n2.6Foreign policy\\n\\n\\n\\n\\n\\n\\n\\n2.7Healthcare issues\\n\\n\\n\\n\\n\\n\\n\\n2.8LGBT rights\\n\\n\\n\\n\\n\\n\\n\\n\\n\\n3Democratic Party\\n\\n\\n\\nToggle Democratic Party subsection\\n\\n\\n\\n\\n\\n3.1Presumptive nominee\\n\\n\\n\\n\\n\\n\\n\\n3.2Declared candidates\\n\\n\\n\\n\\n\\n\\n\\n3.3Alternate ballot options\\n\\n\\n\\n\\n\\n\\n\\n3.4Former candidates\\n\\n\\n\\n\\n\\n\\n\\n\\n\\n4Republican Party\\n\\n\\n\\nToggle Republican Party subsection\\n\\n\\n\\n\\n\\n4.1Presumptive nominee\\n\\n\\n\\n\\n\\n\\n\\n4.2Alternate ballot options\\n\\n\\n\\n\\n\\n\\n\\n4.3Former candidates\\n\\n\\n\\n\\n\\n\\n\\n\\n\\n5Independent and third party candidates\\n\\n\\n\\nToggle Independent and third party candidates subsection\\n\\n\\n\\n\\n\\n5.1Notable party nominations\\n\\n\\n\\n\\n\\n5.1.1With partial ballot access\\n\\n\\n\\n\\n\\n\\n\\n5.1.2Without ballot access\\n\\n\\n\\n\\n\\n\\n\\n\\n\\n5.2Notable declared candidates\\n\\n\\n\\n\\n\\n5.2.1Independents\\n\\n\\n\\n\\n\\n\\n\\n5.2.2Libertarian Party\\n\\n\\n\\n\\n\\n\\n\\n5.2.3Green Party\\n\\n\\n\\n\\n\\n\\n\\n\\n\\n5.3Publicly expressed interest\\n\\n\\n\\n\\n\\n\\n\\n5.4Potential candidates\\n\\n\\n\\n\\n\\n\\n\\n5.5Withdrawn candidates\\n\\n\\n\\n\\n\\n\\n\\n\\n\\n6Polling and forecasts\\n\\n\\n\\nToggle Polling and forecasts subsection\\n\\n\\n\\n\\n\\n6.1Polling aggregation\\n\\n\\n\\n\\n\\n6.1.1Joe Biden vs. Donald Trump\\n\\n\\n\\n\\n\\n\\n\\n6.1.2Joe Biden vs. Donald Trump vs Robert F. Kennedy Jr. vs Cornel West vs. Jill Stein\\n\\n\\n\\n\\n\\n\\n\\n6.1.3Joe Biden, Donald Trump, and Robert F. Kennedy Jr.\\n\\n\\n\\n\\n\\n\\n\\n\\n\\n6.2Forecasts\\n\\n\\n\\n\\n\\n\\n\\n\\n\\n7Debates\\n\\n\\n\\n\\n\\n\\n\\n8See also\\n\\n\\n\\n\\n\\n\\n\\n9Notes\\n\\n\\n\\n\\n\\n\\n\\n10References\\n\\n\\n\\n\\n\\n\\n\\n\\n\\n\\n\\n\\n\\n\\n\\n\\n\\nToggle the table of contents\\n\\n\\n\\n\\n\\n\\n\\n2024 United States presidential election\\n\\n\\n\\n51 languages\\n\\n\\n\\n\\nAfrikaansÿßŸÑÿπÿ±ÿ®Ÿäÿ©Az…ôrbaycanca‡¶¨‡¶æ‡¶Ç‡¶≤‡¶æ–ë–µ–ª–∞—Ä—É—Å–∫–∞—è–ë–µ–ª–∞—Ä—É—Å–∫–∞—è (—Ç–∞—Ä–∞—à–∫–µ–≤—ñ—Ü–∞)–ë—ä–ª–≥–∞—Ä—Å–∫–∏ƒåe≈°tinaDanskDeutschEestiŒïŒªŒªŒ∑ŒΩŒπŒ∫Œ¨Espa√±olŸÅÿßÿ±ÿ≥€åFran√ßaisGaeilgeGalegoÌïúÍµ≠Ïñ¥’Ä’°’µ’•÷Ä’•’∂‡§π‡§ø‡§®‡•ç‡§¶‡•ÄBahasa Indonesia√çslenskaItaliano◊¢◊ë◊®◊ô◊™Latvie≈°uLietuvi≈≥MagyarBahasa MelayuNederlandsÊó•Êú¨Ë™ûNordfriiskNorsk bokm√•lO\\xa0ªzbekcha / —û–∑–±–µ–∫—á–∞PolskiPortugu√™sRom√¢nƒÉ–†—É—Å—Å–∫–∏–π‡∑É‡∑í‡∂Ç‡∑Ñ‡∂ΩSimple EnglishSlovenƒçinaSloven≈°ƒçina–°—Ä–ø—Å–∫–∏ / srpskiSrpskohrvatski / —Å—Ä–ø—Å–∫–æ—Ö—Ä–≤–∞—Ç—Å–∫–∏SuomiSvenska‡Æ§‡ÆÆ‡Æø‡Æ¥‡Øç‡πÑ‡∏ó‡∏¢T√ºrk√ße–£–∫—Ä–∞—ó–Ω—Å—å–∫–∞Ti·∫øng Vi·ªát‰∏≠Êñá\\n\\nEdit links\\n\\n\\n\\n\\n\\n\\n\\n\\n\\n\\n\\nArticleTalk\\n\\n\\n\\n\\n\\nEnglish\\n\\n\\n\\n\\n\\n\\n\\n\\n\\n\\n\\n\\n\\n\\n\\n\\n\\nReadView sourceView history\\n\\n\\n\\n\\n\\n\\n\\nTools\\n\\n\\n\\n\\n\\nTools\\nmove to sidebar\\nhide\\n\\n\\n\\n\\t\\tActions\\n\\t\\n\\n\\nReadView sourceView history\\n\\n\\n\\n\\n\\n\\t\\tGeneral\\n\\t\\n\\n\\nWhat links hereRelated changesUpload fileSpecial pagesPermanent linkPage informationCite this pageGet shortened URLDownload QR codeWikidata item\\n\\n\\n\\n\\n\\n\\t\\tPrint/export\\n\\t\\n\\n\\nDownload as PDFPrintable version\\n\\n\\n\\n\\n\\n\\t\\tIn other projects\\n\\t\\n\\n\\nWikimedia CommonsWikinewsWikiquote\\n\\n\\n\\n\\n\\n\\n\\n\\n\\n\\n\\n\\n\\n\\n\\n\\n\\n\\n\\n\\n\\n\\n\\n\\n\\n\\nFrom Wikipedia, the free encyclopedia\\n\\n\\n60th quadrennial U.S. presidential election\\nFor related races, see 2024 United States elections.\\n\\n\\n\\n2024 United States presidential election\\n←\\xa02020\\nNovember 5, 2024\\n2028\\xa0→\\n538 members of the Electoral College270 electoral votes needed to winOpinion\\xa0polls\\n\\n\\n\\xa0\\n\\n\\n\\n\\n\\n\\nNominee\\n\\nJoe Biden(presumptive)\\n\\nDonald Trump(presumptive)\\n\\n\\n\\n\\nParty\\n\\nDemocratic\\n\\nRepublican\\n\\n\\nHome\\xa0state\\n\\nDelaware\\n\\nFlorida\\n\\n\\nRunning\\xa0mate', metadata={'language': 'en', 'source': 'https://en.wikipedia.org/wiki/2024_United_States_presidential_election', 'title': '2024 United States presidential election - Wikipedia'}),\n",
       "  Document(page_content='2024 United States presidential election - Wikipedia\\n\\n\\n\\n\\n\\n\\n\\n\\n\\n\\n\\n\\n\\n\\n\\n\\n\\n\\n\\n\\n\\n\\n\\n\\n\\n\\n\\n\\n\\n\\n\\n\\n\\n\\n\\nJump to content\\n\\n\\n\\n\\n\\n\\n\\nMain menu\\n\\n\\n\\n\\n\\nMain menu\\nmove to sidebar\\nhide\\n\\n\\n\\n\\t\\tNavigation\\n\\t\\n\\n\\nMain pageContentsCurrent eventsRandom articleAbout WikipediaContact usDonate\\n\\n\\n\\n\\n\\n\\t\\tContribute\\n\\t\\n\\n\\nHelpLearn to editCommunity portalRecent changesUpload file\\n\\n\\n\\n\\n\\n\\n\\n\\n\\n\\n\\n\\n\\n\\n\\n\\n\\n\\n\\nSearch\\n\\n\\n\\n\\n\\n\\n\\n\\n\\n\\n\\nSearch\\n\\n\\n\\n\\n\\n\\n\\n\\n\\n\\n\\n\\n\\n\\n\\n\\n\\n\\n\\n\\n\\n\\n\\n\\n\\n\\n\\n\\n\\nCreate account\\n\\nLog in\\n\\n\\n\\n\\n\\n\\n\\n\\nPersonal tools\\n\\n\\n\\n\\n\\n Create account Log in\\n\\n\\n\\n\\n\\n\\t\\tPages for logged out editors learn more\\n\\n\\n\\nContributionsTalk\\n\\n\\n\\n\\n\\n\\n\\n\\n\\n\\n\\n\\n\\n\\n\\n\\n\\n\\n\\n\\n\\n\\n\\n\\n\\n\\n\\n\\nContents\\nmove to sidebar\\nhide\\n\\n\\n\\n\\n(Top)\\n\\n\\n\\n\\n\\n1Background\\n\\n\\n\\nToggle Background subsection\\n\\n\\n\\n\\n\\n1.1Procedure\\n\\n\\n\\n\\n\\n\\n\\n1.2Election interference\\n\\n\\n\\n\\n\\n\\n\\n1.3Electoral map\\n\\n\\n\\n\\n\\n1.3.1Effects of the 2020 census\\n\\n\\n\\n\\n\\n\\n\\n1.3.2Historical background\\n\\n\\n\\n\\n\\n\\n\\n\\n\\n1.4Independent and third-party voting\\n\\n\\n\\n\\n\\n\\n\\n\\n\\n2Campaign issues\\n\\n\\n\\nToggle Campaign issues subsection\\n\\n\\n\\n\\n\\n2.1Abortion\\n\\n\\n\\n\\n\\n\\n\\n2.2Border security and immigration\\n\\n\\n\\n\\n\\n\\n\\n2.3Democracy\\n\\n\\n\\n\\n\\n\\n\\n2.4Economic issues\\n\\n\\n\\n\\n\\n\\n\\n2.5Education\\n\\n\\n\\n\\n\\n\\n\\n2.6Foreign policy\\n\\n\\n\\n\\n\\n\\n\\n2.7Healthcare issues\\n\\n\\n\\n\\n\\n\\n\\n2.8LGBT rights\\n\\n\\n\\n\\n\\n\\n\\n\\n\\n3Democratic Party\\n\\n\\n\\nToggle Democratic Party subsection\\n\\n\\n\\n\\n\\n3.1Presumptive nominee\\n\\n\\n\\n\\n\\n\\n\\n3.2Declared candidates\\n\\n\\n\\n\\n\\n\\n\\n3.3Alternate ballot options\\n\\n\\n\\n\\n\\n\\n\\n3.4Former candidates\\n\\n\\n\\n\\n\\n\\n\\n\\n\\n4Republican Party\\n\\n\\n\\nToggle Republican Party subsection\\n\\n\\n\\n\\n\\n4.1Presumptive nominee\\n\\n\\n\\n\\n\\n\\n\\n4.2Alternate ballot options\\n\\n\\n\\n\\n\\n\\n\\n4.3Former candidates\\n\\n\\n\\n\\n\\n\\n\\n\\n\\n5Independent and third party candidates\\n\\n\\n\\nToggle Independent and third party candidates subsection\\n\\n\\n\\n\\n\\n5.1Notable party nominations\\n\\n\\n\\n\\n\\n5.1.1With partial ballot access\\n\\n\\n\\n\\n\\n\\n\\n5.1.2Without ballot access\\n\\n\\n\\n\\n\\n\\n\\n\\n\\n5.2Notable declared candidates\\n\\n\\n\\n\\n\\n5.2.1Independents\\n\\n\\n\\n\\n\\n\\n\\n5.2.2Libertarian Party\\n\\n\\n\\n\\n\\n\\n\\n5.2.3Green Party\\n\\n\\n\\n\\n\\n\\n\\n\\n\\n5.3Publicly expressed interest\\n\\n\\n\\n\\n\\n\\n\\n5.4Potential candidates\\n\\n\\n\\n\\n\\n\\n\\n5.5Withdrawn candidates\\n\\n\\n\\n\\n\\n\\n\\n\\n\\n6Polling and forecasts\\n\\n\\n\\nToggle Polling and forecasts subsection\\n\\n\\n\\n\\n\\n6.1Polling aggregation\\n\\n\\n\\n\\n\\n6.1.1Joe Biden vs. Donald Trump\\n\\n\\n\\n\\n\\n\\n\\n6.1.2Joe Biden vs. Donald Trump vs Robert F. Kennedy Jr. vs Cornel West vs. Jill Stein\\n\\n\\n\\n\\n\\n\\n\\n6.1.3Joe Biden, Donald Trump, and Robert F. Kennedy Jr.\\n\\n\\n\\n\\n\\n\\n\\n\\n\\n6.2Forecasts\\n\\n\\n\\n\\n\\n\\n\\n\\n\\n7Debates\\n\\n\\n\\n\\n\\n\\n\\n8See also\\n\\n\\n\\n\\n\\n\\n\\n9Notes\\n\\n\\n\\n\\n\\n\\n\\n10References\\n\\n\\n\\n\\n\\n\\n\\n\\n\\n\\n\\n\\n\\n\\n\\n\\n\\nToggle the table of contents\\n\\n\\n\\n\\n\\n\\n\\n2024 United States presidential election\\n\\n\\n\\n51 languages\\n\\n\\n\\n\\nAfrikaansÿßŸÑÿπÿ±ÿ®Ÿäÿ©Az…ôrbaycanca‡¶¨‡¶æ‡¶Ç‡¶≤‡¶æ–ë–µ–ª–∞—Ä—É—Å–∫–∞—è–ë–µ–ª–∞—Ä—É—Å–∫–∞—è (—Ç–∞—Ä–∞—à–∫–µ–≤—ñ—Ü–∞)–ë—ä–ª–≥–∞—Ä—Å–∫–∏ƒåe≈°tinaDanskDeutschEestiŒïŒªŒªŒ∑ŒΩŒπŒ∫Œ¨Espa√±olŸÅÿßÿ±ÿ≥€åFran√ßaisGaeilgeGalegoÌïúÍµ≠Ïñ¥’Ä’°’µ’•÷Ä’•’∂‡§π‡§ø‡§®‡•ç‡§¶‡•ÄBahasa Indonesia√çslenskaItaliano◊¢◊ë◊®◊ô◊™Latvie≈°uLietuvi≈≥MagyarBahasa MelayuNederlandsÊó•Êú¨Ë™ûNordfriiskNorsk bokm√•lO\\xa0ªzbekcha / —û–∑–±–µ–∫—á–∞PolskiPortugu√™sRom√¢nƒÉ–†—É—Å—Å–∫–∏–π‡∑É‡∑í‡∂Ç‡∑Ñ‡∂ΩSimple EnglishSlovenƒçinaSloven≈°ƒçina–°—Ä–ø—Å–∫–∏ / srpskiSrpskohrvatski / —Å—Ä–ø—Å–∫–æ—Ö—Ä–≤–∞—Ç—Å–∫–∏SuomiSvenska‡Æ§‡ÆÆ‡Æø‡Æ¥‡Øç‡πÑ‡∏ó‡∏¢T√ºrk√ße–£–∫—Ä–∞—ó–Ω—Å—å–∫–∞Ti·∫øng Vi·ªát‰∏≠Êñá\\n\\nEdit links\\n\\n\\n\\n\\n\\n\\n\\n\\n\\n\\n\\nArticleTalk\\n\\n\\n\\n\\n\\nEnglish\\n\\n\\n\\n\\n\\n\\n\\n\\n\\n\\n\\n\\n\\n\\n\\n\\n\\nReadView sourceView history\\n\\n\\n\\n\\n\\n\\n\\nTools\\n\\n\\n\\n\\n\\nTools\\nmove to sidebar\\nhide\\n\\n\\n\\n\\t\\tActions\\n\\t\\n\\n\\nReadView sourceView history\\n\\n\\n\\n\\n\\n\\t\\tGeneral\\n\\t\\n\\n\\nWhat links hereRelated changesUpload fileSpecial pagesPermanent linkPage informationCite this pageGet shortened URLDownload QR codeWikidata item\\n\\n\\n\\n\\n\\n\\t\\tPrint/export\\n\\t\\n\\n\\nDownload as PDFPrintable version\\n\\n\\n\\n\\n\\n\\t\\tIn other projects\\n\\t\\n\\n\\nWikimedia CommonsWikinewsWikiquote\\n\\n\\n\\n\\n\\n\\n\\n\\n\\n\\n\\n\\n\\n\\n\\n\\n\\n\\n\\n\\n\\n\\n\\n\\n\\n\\nFrom Wikipedia, the free encyclopedia\\n\\n\\n60th quadrennial U.S. presidential election\\nFor related races, see 2024 United States elections.\\n\\n\\n\\n2024 United States presidential election\\n←\\xa02020\\nNovember 5, 2024\\n2028\\xa0→\\n538 members of the Electoral College270 electoral votes needed to winOpinion\\xa0polls\\n\\n\\n\\xa0\\n\\n\\n\\n\\n\\n\\nNominee\\n\\nJoe Biden(presumptive)\\n\\nDonald Trump(presumptive)\\n\\n\\n\\n\\nParty\\n\\nDemocratic\\n\\nRepublican\\n\\n\\nHome\\xa0state\\n\\nDelaware\\n\\nFlorida\\n\\n\\nRunning\\xa0mate', metadata={'language': 'en', 'source': 'https://en.wikipedia.org/wiki/2024_United_States_presidential_election', 'title': '2024 United States presidential election - Wikipedia'}),\n",
       "  Document(page_content='Nominee\\n\\nJoe Biden(presumptive)\\n\\nDonald Trump(presumptive)\\n\\n\\n\\n\\nParty\\n\\nDemocratic\\n\\nRepublican\\n\\n\\nHome\\xa0state\\n\\nDelaware\\n\\nFlorida\\n\\n\\nRunning\\xa0mate\\n\\nKamala Harris(presumptive)\\n\\nTBA\\n\\n2024 electoral map, based on the results of the 2020 census\\n\\n\\nIncumbent President\\nJoe Biden\\nDemocratic\\n\\n\\n\\n\\n\\n\\n  2024 U.S. presidential election\\nTimeline\\nPresidential debates\\nParties\\nPolling\\nnational\\nstatewide\\nNews media endorsements\\nprimary\\nFundraising\\nBallot access\\n\\nDemocratic Party\\nPrimaries\\nCandidates\\nDebates and forums\\nPolling\\nResults\\nEndorsements\\nPresumptive nominee\\nConvention\\n\\nRepublican Party\\nPrimaries\\nCandidates\\nDebates and forums\\nPolling\\nnational\\nstatewide\\nResults\\nEndorsements\\nPresumptive nominee\\nVP candidate selection\\nConvention\\n\\nThird parties\\nLibertarian Party\\nprimaries\\nconvention\\nGreen Party\\nprimaries\\nThird-party and independent candidates\\npolling\\n\\nRelated races\\nSenate\\nHouse\\nGovernors\\n\\n\\n←\\xa02020\\n2024\\n2028\\xa0→\\nvte\\nThe 2024 United States presidential election will be the 60th quadrennial presidential election, set to be held on Tuesday, November 5, 2024.[1] Voters will elect a president and vice president for a term of four years. Incumbent President Joe Biden, a member of the Democratic Party, is running for re-election.[2] His predecessor Donald Trump, a member of the Republican Party, is running for re-election for a second, nonconsecutive term.[3] This will mark the seventh presidential rematch in American history and the first since 1956. If Trump wins, he would become the second president to serve a nonconsecutive term, the first being Grover Cleveland. \\nThe winner of this election is scheduled to be inaugurated on January 20, 2025. It will occur at the same time as elections relating to the U.S. Senate, House, gubernatorial, and state legislative. On March 12, Biden and Trump became the presumptive nominees for the Democratic and Republican parties respectively by clinching a majority of delegates, although they have yet to be confirmed at the nominating conventions.[4] Robert F. Kennedy Jr. emerged as the first major third-party presidential candidate since Ross Perot[5] in the 1992 and 1996 elections, running as an independent.[6] His polling is at the highest levels for a candidate outside the two major parties since Ross Perot in 1992.[7][8]\\nAbortion,[9][10] immigration, healthcare,[11] education,[12] the economy,[13] foreign policy,[14] border security,[15] LGBT rights,[16] climate change,[17] and democracy[18][19][20] are expected to be leading campaign issues.', metadata={'language': 'en', 'source': 'https://en.wikipedia.org/wiki/2024_United_States_presidential_election', 'title': '2024 United States presidential election - Wikipedia'})],\n",
       " 'answer': 'The 2024 United States presidential election is the upcoming 60th quadrennial presidential election scheduled to be held on Tuesday, November 5, 2024. In this election, voters will elect a president and vice president for a four-year term. Incumbent President Joe Biden from the Democratic Party is running for re-election, and former President Donald Trump from the Republican Party is also running for re-election for a second, nonconsecutive term.'}"
      ]
     },
     "execution_count": 39,
     "metadata": {},
     "output_type": "execute_result"
    }
   ],
   "source": [
    "response[]"
   ]
  }
 ],
 "metadata": {
  "kernelspec": {
   "display_name": ".venv",
   "language": "python",
   "name": "python3"
  },
  "language_info": {
   "codemirror_mode": {
    "name": "ipython",
    "version": 3
   },
   "file_extension": ".py",
   "mimetype": "text/x-python",
   "name": "python",
   "nbconvert_exporter": "python",
   "pygments_lexer": "ipython3",
   "version": "3.10.11"
  }
 },
 "nbformat": 4,
 "nbformat_minor": 2
}
