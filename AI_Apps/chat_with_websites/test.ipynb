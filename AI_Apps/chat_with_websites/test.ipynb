{
 "cells": [
  {
   "cell_type": "code",
   "execution_count": null,
   "metadata": {},
   "outputs": [],
   "source": [
    "\n",
    "import streamlit as st\n",
    "from langchain_core.messages import AIMessage,HumanMessage\n",
    "from langchain_community.document_loaders import WebBaseLoader\n",
    "from langchain.text_splitter import RecursiveCharacterTextSplitter\n",
    "from langchain_community.vectorstores import Chroma\n",
    "from langchain_openai import OpenAIEmbeddings, ChatOpenAI\n",
    "from dotenv import load_dotenv\n",
    "from langchain_core.prompts import ChatPromptTemplate, MessagesPlaceholder\n",
    "from langchain.chains import create_history_aware_retriever,create_retrieval_chain\n",
    "from langchain.chains.combine_documents import  create_stuff_documents_chain\n",
    "load_dotenv()\n",
    "\n",
    "def get_urls():\n",
    "    return[\"https://en.wikipedia.org/wiki/2024_United_States_presidential_election,\"\n",
    "           \n",
    "        \n",
    "    ]\n",
    "def get_vectorstore_from_url(url):\n",
    "    url=\"https://en.wikipedia.org/wiki/2024_United_States_presidential_election\"\n",
    "    loader=WebBaseLoader(url)\n",
    "    document=loader.load()\n",
    "    text_splitter=RecursiveCharacterTextSplitter()\n",
    "    document_chunks=text_splitter.split_documents(document)\n",
    "    vector_store=Chroma.from_documents(document_chunks,OpenAIEmbeddings()) \n",
    "    return vector_store\n",
    "\n",
    "def context_retriever_chain(vector_store):\n",
    "    llm=ChatOpenAI()\n",
    "    retriever=vector_store.as_retriever()\n",
    "    prompt=ChatPromptTemplate.from_messages(\n",
    "        [MessagesPlaceholder(variable_name=\"chat_history\"), \n",
    "         (\"user\", \"{input}\"), \n",
    "         \n",
    "         ])\n",
    "    retriever_chain=create_history_aware_retriever(llm,retriever,prompt)\n",
    "    return retriever_chain\n",
    "\n",
    "\n",
    "def get_conversion_rag_chain(retriever_chain):\n",
    "    llm = ChatOpenAI()\n",
    "    prompt = ChatPromptTemplate.from_messages([\n",
    "        ('system', \"answer the following questions based on the below context:\\n\\n{context}\"),\n",
    "        MessagesPlaceholder(variable_name=\"chat_history\"),\n",
    "        (\"user\", \"{input}\"),\n",
    "    ])\n",
    "    \n",
    "    stuff_documents_chain = create_stuff_documents_chain(llm, prompt)\n",
    "    # Correctly call create_retrieval_chain with the retriever_chain and stuff_documents_chain\n",
    "    combined_retrieval_chain = create_retrieval_chain(retriever_chain, stuff_documents_chain)\n",
    "    return combined_retrieval_chain\n",
    "\n",
    "def get_response(user_input,conversation_rag_chain):\n",
    "    conversation_rag_chain=conversation_rag_chain\n",
    "    response = conversation_rag_chain.invoke({\n",
    "                \"chat_history\": [],\n",
    "                \"input\": user_input\n",
    "            })\n",
    "    return response['answer']\n",
    "    # context=\"\"\n",
    "    # for res in response:\n",
    "    #     context+=res.page_content\n",
    "    # llm=ChatOpenAI()\n",
    "    # return llm.invoke(f\"answer the following questions based on the below context:\\n\\n{context}\")\n",
    "\n",
    "\n",
    "def initialize_session_state():\n",
    "    vector_store, retriever_chain, conversion_rag_chain, urls = run()\n",
    "    st.session_state[\"init\"] = True\n",
    "    st.session_state[\"vector_store\"] = vector_store\n",
    "    st.session_state[\"retriever_chain\"] = retriever_chain\n",
    "    st.session_state[\"conversion_rag_chain\"] = conversion_rag_chain\n",
    "    st.session_state[\"urls\"] = urls\n",
    "    st.session_state['chat_history'] = [AIMessage(\"Hello! I am a bot. Ask me anything!\")]\n",
    "\n",
    "def run():\n",
    "    urls=get_urls()\n",
    "    vector_store=get_vectorstore_from_url(urls)\n",
    "    retriever_chain=context_retriever_chain(vector_store=vector_store)\n",
    "    conversation_rag_chain = get_conversion_rag_chain(retriever_chain=retriever_chain)\n",
    "    \n",
    "    return conversation_rag_chain,vector_store,retriever_chain,urls\n"
   ]
  },
  {
   "cell_type": "code",
   "execution_count": null,
   "metadata": {},
   "outputs": [],
   "source": [
    "conversation_rag_chain,vector_store,retriever_chain,urls=run()"
   ]
  },
  {
   "cell_type": "code",
   "execution_count": null,
   "metadata": {},
   "outputs": [],
   "source": [
    "response=get_response(\"What is the 2024 United States presidential election?\",conversation_rag_chain)"
   ]
  },
  {
   "cell_type": "code",
   "execution_count": null,
   "metadata": {},
   "outputs": [],
   "source": [
    "response['answer']"
   ]
  },
  {
   "cell_type": "code",
   "execution_count": 1,
   "metadata": {},
   "outputs": [],
   "source": [
    "from langchain.text_splitter import RecursiveCharacterTextSplitter\n",
    "from langchain_community.document_loaders import WebBaseLoader\n",
    "from langchain_community.vectorstores.chroma import Chroma\n",
    "from langchain_openai import OpenAIEmbeddings, ChatOpenAI\n",
    "from dotenv import load_dotenv\n",
    "load_dotenv()\n",
    "_urls=[\"https://www.accessdata.fda.gov/scripts/cdrh/cfdocs/cfmaude/search.cfm\",\n",
    "\"https://en.wikipedia.org/wiki/2024_United_States_presidential_election\",\n",
    "\"https://www.accessdata.fda.gov/scripts/cdrh/cfdocs/cfpmn/pmn.cfm\",\n",
    "\"https://pubmed.ncbi.nlm.nih.gov/\",\n",
    "\"https://ec.europa.eu/tools/eu\"]\n",
    "\n",
    "def get_vectorstore_from_url(urls):\n",
    "    # get the text in document form\n",
    "    all_documents = []\n",
    "    for url in urls:\n",
    "        loader = WebBaseLoader(url)\n",
    "        document = loader.load()\n",
    "    \n",
    "    # split the document into chunks\n",
    "        text_splitter = RecursiveCharacterTextSplitter()\n",
    "        document_chunks = text_splitter.split_documents(document)\n",
    "        all_documents.extend(document_chunks)\n",
    "    \n",
    "    # create a vectorstore from the chunks\n",
    "    vector_store = Chroma.from_documents(documents=all_documents, embedding=OpenAIEmbeddings(),persist_directory=\"website_db\")\n",
    "\n",
    "    return vector_store\n",
    "\n",
    "\n"
   ]
  },
  {
   "cell_type": "code",
   "execution_count": 2,
   "metadata": {},
   "outputs": [],
   "source": [
    "vector_store=get_vectorstore_from_url(_urls)"
   ]
  },
  {
   "cell_type": "code",
   "execution_count": null,
   "metadata": {},
   "outputs": [],
   "source": [
    "db2=Chroma(persist_directory=\"website_db\",embedding_function=OpenAIEmbeddings())"
   ]
  },
  {
   "cell_type": "code",
   "execution_count": null,
   "metadata": {},
   "outputs": [],
   "source": [
    "res=db2.similarity_search(\"What is the 2024 United States presidential election?\",k=3)"
   ]
  },
  {
   "cell_type": "code",
   "execution_count": null,
   "metadata": {},
   "outputs": [],
   "source": [
    "model=ChatOpenAI()\n"
   ]
  }
 ],
 "metadata": {
  "kernelspec": {
   "display_name": ".venv",
   "language": "python",
   "name": "python3"
  },
  "language_info": {
   "codemirror_mode": {
    "name": "ipython",
    "version": 3
   },
   "file_extension": ".py",
   "mimetype": "text/x-python",
   "name": "python",
   "nbconvert_exporter": "python",
   "pygments_lexer": "ipython3",
   "version": "3.10.11"
  }
 },
 "nbformat": 4,
 "nbformat_minor": 2
}
