{
 "cells": [
  {
   "cell_type": "markdown",
   "metadata": {},
   "source": [
    "# this is Pixegami tutorial\n",
    "### from this video :https://www.youtube.com/watch?v=tcqEUSNCn8I"
   ]
  },
  {
   "cell_type": "code",
   "execution_count": null,
   "metadata": {},
   "outputs": [],
   "source": [
    "from dotenv import load_dotenv\n",
    "import os\n",
    "from langchain.document_loaders import DirectoryLoader\n",
    "from langchain.text_splitter import RecursiveCharacterTextSplitter\n",
    "from langchain_openai import OpenAIEmbeddings, ChatOpenAI\n",
    "from langchain.vectorstores import Chroma\n",
    "from langchain_core.prompts import ChatPromptTemplate\n",
    "\n",
    "load_dotenv()\n",
    "directory_path='/Users/matansharon/python/chat_with_docs/data/text'\n",
    "\n",
    "\n",
    "\n",
    "def load_and_split_documents():\n",
    "    loader = DirectoryLoader(directory_path)\n",
    "    documents = loader.load()\n",
    "    \n",
    "    text_splitter = RecursiveCharacterTextSplitter(\n",
    "        chunk_size=1000,\n",
    "        chunk_overlap=100,\n",
    "        length_function=len,\n",
    "        add_start_index=True\n",
    "    )\n",
    "    chunks=text_splitter.split_documents(documents)\n",
    "    return chunks\n",
    "def create_db(chunks):\n",
    "    path='chroma_db'\n",
    "    if not os.path.exists(path):\n",
    "        \n",
    "        db=Chroma.from_documents(documents=chunks,embedding=OpenAIEmbeddings(),persist_directory=path)\n",
    "        return db\n",
    "    return load_db()\n",
    "def load_db():\n",
    "    db = Chroma(persist_directory=\"chroma_db\",embedding_function=OpenAIEmbeddings())\n",
    "    return db\n",
    "def get_results_with_scores(query,db):\n",
    "    bar=0.5\n",
    "    res=db.similarity_search_with_relevance_scores(query,k=3)\n",
    "    if len(res)==0 or res[0][1]<bar:\n",
    "        return 'No results found'\n",
    "    r=[]\n",
    "    for i in range(len(res)):\n",
    "        if res[i][1]>bar:\n",
    "            r.append(res[i])\n",
    "    return r\n",
    "def get_prompt_template(results,query):\n",
    "    template=\"\"\"\n",
    "    answer the question base only on the following context:\n",
    "    {context}\n",
    "    answer the question base on the above context: {query}\n",
    "    \n",
    "    \"\"\"\n",
    "    context_text=\"\\n\\n---\\n\\n\".join([res.page_content for res,_score in results])\n",
    "    prompt_tamplate=ChatPromptTemplate.from_template(template)\n",
    "    res=prompt_tamplate.format(context=context_text,query=query)\n",
    "    return res\n",
    "def get_response(query,db,model):\n",
    "    results=get_results_with_scores(query,db)\n",
    "    prompt_template=get_prompt_template(results,query)\n",
    "    response=model.predict(prompt_template)\n",
    "    return response\n",
    "def main_app():\n",
    "    db=load_db()\n",
    "    model=ChatOpenAI()\n",
    "    return db,model\n"
   ]
  }
 ],
 "metadata": {
  "kernelspec": {
   "display_name": "data_env",
   "language": "python",
   "name": "python3"
  },
  "language_info": {
   "codemirror_mode": {
    "name": "ipython",
    "version": 3
   },
   "file_extension": ".py",
   "mimetype": "text/x-python",
   "name": "python",
   "nbconvert_exporter": "python",
   "pygments_lexer": "ipython3",
   "version": "3.10.11"
  }
 },
 "nbformat": 4,
 "nbformat_minor": 2
}
