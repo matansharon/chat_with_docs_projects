{
 "cells": [
  {
   "cell_type": "code",
   "execution_count": 1,
   "metadata": {},
   "outputs": [],
   "source": [
    "#create a function that takes a pdf file and converts it to a text file\n",
    "from PyPDF2 import PdfReader\n",
    "from langchain.text_splitter import TokenTextSplitter\n",
    "import os\n",
    "\n",
    "\n"
   ]
  },
  {
   "cell_type": "code",
   "execution_count": 28,
   "metadata": {},
   "outputs": [],
   "source": [
    "\n",
    "def convert_pdf_to_text(pdf_path):\n",
    "    reader = PdfReader(pdf_path)\n",
    "    page = reader.pages[0]\n",
    "    text = page.extract_text()\n",
    "    out_path=pdf_path.replace(\".pdf\", \".txt\")\n",
    "    with open(out_path, \"w\") as f:\n",
    "        f.write(text)\n",
    "convert_pdf_to_text('F:\\python\\chat_with_docs\\data\\Programming_PyTorch_for_Deep_Learning_Creating_and_Deploying_Deep_Learning_Applications_by_Ian_Pointer_z-lib_org.pdf')"
   ]
  },
  {
   "cell_type": "code",
   "execution_count": null,
   "metadata": {},
   "outputs": [],
   "source": []
  }
 ],
 "metadata": {
  "kernelspec": {
   "display_name": ".venv",
   "language": "python",
   "name": "python3"
  },
  "language_info": {
   "codemirror_mode": {
    "name": "ipython",
    "version": 3
   },
   "file_extension": ".py",
   "mimetype": "text/x-python",
   "name": "python",
   "nbconvert_exporter": "python",
   "pygments_lexer": "ipython3",
   "version": "3.10.11"
  },
  "orig_nbformat": 4
 },
 "nbformat": 4,
 "nbformat_minor": 2
}
