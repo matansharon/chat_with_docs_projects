{
 "cells": [
  {
   "cell_type": "code",
   "execution_count": 1,
   "metadata": {},
   "outputs": [],
   "source": [
    "# from langchain.llms import OpenAI\n",
    "# from langchain.chains.summarize import load_summarize_chain\n",
    "# from langchain.text_splitter import RecursiveCharacterTextSplitter\n",
    "# from langchain.document_loaders import PyPDFLoader\n",
    "# from langchain.llms.ctransformers import CTransformers\n",
    "# import pandas as pd\n",
    "# from pypdf import PdfReader \n",
    "# # from ctransformers import AutoModelForCausalLM\n",
    "# from transformers import AutoTokenizer , AutoModelForCausalLM\n",
    "# import transformers\n",
    "# import torch"
   ]
  },
  {
   "cell_type": "code",
   "execution_count": 20,
   "metadata": {},
   "outputs": [
    {
     "data": {
      "application/vnd.jupyter.widget-view+json": {
       "model_id": "df3c3b7724504490b7482236a912935b",
       "version_major": 2,
       "version_minor": 0
      },
      "text/plain": [
       "Fetching 1 files:   0%|          | 0/1 [00:00<?, ?it/s]"
      ]
     },
     "metadata": {},
     "output_type": "display_data"
    },
    {
     "data": {
      "application/vnd.jupyter.widget-view+json": {
       "model_id": "cae7d4d02f484e30af690ed4b71dcad5",
       "version_major": 2,
       "version_minor": 0
      },
      "text/plain": [
       "Fetching 1 files:   0%|          | 0/1 [00:00<?, ?it/s]"
      ]
     },
     "metadata": {},
     "output_type": "display_data"
    }
   ],
   "source": [
    "from ctransformers import AutoModelForCausalLM\n",
    "\n",
    "# Set gpu_layers to the number of layers to offload to GPU. Set to 0 if no GPU acceleration is available on your system.\n",
    "\n",
    "llm = AutoModelForCausalLM.from_pretrained(\"TheBloke/Yarn-Llama-2-7B-128K-GGUF\",model_file='yarn-llama-2-7b-128k.Q4_K_M.gguf', model_type=\"llama\",context_length=1000,max_new_tokens=100,gpu_layers=0)\n",
    "\n",
    "\n",
    "\n"
   ]
  },
  {
   "cell_type": "code",
   "execution_count": 9,
   "metadata": {},
   "outputs": [
    {
     "name": "stdout",
     "output_type": "stream",
     "text": [
      " make some jobs easier and other jobs obsolete.\n",
      "The future of work will be a blend of technology and human talent, not a battle between machines and humans.\n",
      "By 2030, most new jobs in developed economies are likely to be high-skill, high-wage, and high-tech (HSHT). Jobs will require more education, training, and retraining, including relearning how to use computers. Workers with the right skills will have a better chance of finding employment and higher wages.\n",
      "The future of work is not about machines versus humans but rather about the new technology and its applications in specific domains or occupations—things machines will excel at or excel far better than human workers could. As these changes happen, they’ll impact the types of jobs that exist, the skills needed to perform them, and how people are paid for their work.\n",
      "AI will help make some existing jobs easier. However, in many cases, it is going to replace a lot of existing jobs and create new ones as well (new products require both). The future of work will be a blend of technology and human talent, not a battle between machines and humans. AI and machine learning will complement,\n"
     ]
    }
   ],
   "source": [
    "print(llm(\"AI is going to\"))"
   ]
  },
  {
   "cell_type": "code",
   "execution_count": 10,
   "metadata": {},
   "outputs": [],
   "source": [
    "import PyPDF2\n",
    "\n",
    "with open('/Users/matansharon/python/chat_with_docs_projects/data/Programming_PyTorch_for_Deep_Learning_Creating_and_Deploying_Deep_Learning_Applications_by_Ian_Pointer_z-lib_org.pdf', 'rb') as file:\n",
    "    reader = PyPDF2.PdfReader(file)\n",
    "    text = ''\n",
    "    for page in range(len(reader.pages)):\n",
    "        text += reader.pages[page].extract_text()\n",
    "# print(text)\n",
    "# print(len(text))\n"
   ]
  },
  {
   "cell_type": "code",
   "execution_count": 22,
   "metadata": {},
   "outputs": [
    {
     "data": {
      "text/plain": [
       "'3\\nDrive: SATA, SSD, HDD                                                                   7        .\\nThe hardware part of the computer is a very important part. It has been improved for many years and has made great progress in terms of speed and stability. In this chapter, we will briefly introduce the basic concept, technology principles and main components of computers.\\n1. Computer: What is a computer?\\nA computer is an electronic device that can perform various calculations and process information quickly according'"
      ]
     },
     "execution_count": 22,
     "metadata": {},
     "output_type": "execute_result"
    }
   ],
   "source": [
    "input_text=text[2500:3000]\n",
    "output=llm(\"summarize the following text: \\n\"+input_text)\n",
    "output"
   ]
  },
  {
   "cell_type": "code",
   "execution_count": 19,
   "metadata": {},
   "outputs": [
    {
     "data": {
      "text/plain": [
       "353"
      ]
     },
     "execution_count": 19,
     "metadata": {},
     "output_type": "execute_result"
    }
   ],
   "source": [
    "len(output)"
   ]
  }
 ],
 "metadata": {
  "kernelspec": {
   "display_name": "llm",
   "language": "python",
   "name": "python3"
  },
  "language_info": {
   "codemirror_mode": {
    "name": "ipython",
    "version": 3
   },
   "file_extension": ".py",
   "mimetype": "text/x-python",
   "name": "python",
   "nbconvert_exporter": "python",
   "pygments_lexer": "ipython3",
   "version": "3.10.11"
  },
  "orig_nbformat": 4
 },
 "nbformat": 4,
 "nbformat_minor": 2
}
